{
 "cells": [
  {
   "cell_type": "code",
   "execution_count": 30,
   "metadata": {},
   "outputs": [],
   "source": [
    "lambda <- scan(file = \"C:/Users/Daniel Choi/Desktop/comp-coursework/MATH4432/HW3/lambda.txt\")\n",
    "loglam <- log(lambda, base=10)\n",
    "train <- read.table(file = 'C:/Users/Daniel Choi/Desktop/comp-coursework/MATH4432/HW3/train.txt', sep = '\\t', header = TRUE)\n",
    "\n",
    "X = train[,2:21]\n",
    "y = train[,1]\n",
    "\n",
    "calc_p <- function(X, beta) {\n",
    "  beta = as.vector(beta)\n",
    "  return(exp(X%*%beta) / (1+ exp(X%*%beta)))\n",
    "}  "
   ]
  },
  {
   "cell_type": "markdown",
   "metadata": {},
   "source": [
    "### TODO: Implement the penalized logistic regression"
   ]
  },
  {
   "cell_type": "code",
   "execution_count": 19,
   "metadata": {},
   "outputs": [],
   "source": [
    "manualReg <- function(X, y, lambda) {\n",
    "  \n",
    "  n  <- nrow(X)\n",
    "  x_col  <- ncol(X)\n",
    "  \n",
    "  #Centering, Scaling\n",
    "  \n",
    "  ym <- mean(y)\n",
    "  y  <- y-ym\n",
    "  Xm <- colMeans(X)\n",
    "  X <- scale(X,center = T,scale = F)\n",
    "  Xsd <- sqrt(colMeans(X^2))\n",
    "  X <- apply(X,MARGIN = 1,function(X,sd) X/sd,sd=Xsd)\n",
    "  X <- t(X)\n",
    "  \n",
    "  ns <- length(lambda)\n",
    "  beta <- matrix(0,x_col,ns)\n",
    "  \n",
    "  for(i in 1:ns) {\n",
    "    \n",
    "    if (i == 1){\n",
    "      beta_old <- beta[,1]\n",
    "    }\n",
    "    else {\n",
    "      beta_old <- beta[, i-1]\n",
    "    }\n",
    "\n",
    "    p <- as.vector(calc_p(X, beta_old))\n",
    "    W  <- diag(p*(1-p)) \n",
    "    \n",
    "    lambda_matrix <- diag(lambda[i], x_col)\n",
    "    d1 <- t(X) %*% (p - y) + 2 * lambda_matrix %*% beta_old\n",
    "    d2 <- t(X) %*% W %*% X + 2 * lambda_matrix\n",
    "    \n",
    "    beta_change <- solve(d2) %*% (d1)\n",
    "    beta[, i] <- beta_old - beta_change\n",
    "    \n",
    "  }\n",
    "  beta <- beta/Xsd\n",
    "  w0 <- ym - colSums(beta*Xm)\n",
    "  beta <- rbind(w0,beta)\n",
    "\n",
    "  beta <- list(w=beta,lambda=lambda,eigvalues=D)\n",
    "  attr(beta, \"class\") <- \"manualReg\"\n",
    "  \n",
    "  return(beta)\n",
    "}"
   ]
  },
  {
   "cell_type": "code",
   "execution_count": 20,
   "metadata": {},
   "outputs": [],
   "source": [
    "predict.manualReg <- function(object, Xtest) {\n",
    "  Xtest <- cbind(1,Xtest)\n",
    "  Xtest <- t(t(Xtest))\n",
    "  y_h <- Xtest %*% object$w\n",
    "}"
   ]
  },
  {
   "cell_type": "markdown",
   "metadata": {},
   "source": [
    "### TODO: Fit the penalized logistic regression using the training data"
   ]
  },
  {
   "cell_type": "code",
   "execution_count": 21,
   "metadata": {},
   "outputs": [],
   "source": [
    "fit <- manualReg(X, y, lambda)"
   ]
  },
  {
   "cell_type": "markdown",
   "metadata": {},
   "source": [
    "### TODO: With your fitted models, construct two solution path figures"
   ]
  },
  {
   "cell_type": "markdown",
   "metadata": {},
   "source": [
    "##### Solution path A"
   ]
  },
  {
   "cell_type": "code",
   "execution_count": 22,
   "metadata": {},
   "outputs": [
    {
     "data": {
      "image/png": "[encoded data removed]",
      "text/plain": [
       "Plot with title \"solution path\""
      ]
     },
     "metadata": {
      "image/png": {
       "height": 420,
       "width": 420
      }
     },
     "output_type": "display_data"
    }
   ],
   "source": [
    "matplot(loglam,t(fit$w[-1,]),type=\"l\",xlab=expression(log[10]*lambda),\n",
    "         ylab=expression(beta),main=\"solution path\")"
   ]
  },
  {
   "cell_type": "markdown",
   "metadata": {},
   "source": [
    "##### Solution path B"
   ]
  },
  {
   "cell_type": "code",
   "execution_count": 24,
   "metadata": {},
   "outputs": [
    {
     "data": {
      "image/png": "[encoded data removed]",
      "text/plain": [
       "Plot with title \"solution path\""
      ]
     },
     "metadata": {
      "image/png": {
       "height": 420,
       "width": 420
      }
     },
     "output_type": "display_data"
    }
   ],
   "source": [
    "matplot(sqrt(colSums(fit$w[-1,]^2)/sum(fit$w[-1,length(lambda)]^2)),t(fit$w[-1,]),type=\"l\",xlab=expression(\"||\"*hat(beta)[lambda]*\"||\"[2]/max(\"||\"*hat(beta)*\"||\"[2])),\n",
    "        ylab=expression(beta),main=\"solution path\")"
   ]
  },
  {
   "cell_type": "markdown",
   "metadata": {},
   "source": [
    "### TODO: Implement a 10-fold cross validation"
   ]
  },
  {
   "cell_type": "code",
   "execution_count": 25,
   "metadata": {},
   "outputs": [],
   "source": [
    "# Helper function\n",
    "sigmoid <- function(x){\n",
    "  return (1 / (1 + exp(-x)))\n",
    "}"
   ]
  },
  {
   "cell_type": "code",
   "execution_count": 31,
   "metadata": {},
   "outputs": [],
   "source": [
    "cv.manualReg <- function(X, y, lambda, center = F, scale = F, nfolds=10, ...){\n",
    "  p <- ncol(X)\n",
    "  n <- nrow(X)\n",
    "  \n",
    "  # decide the cv assignments\n",
    "  idx <- round(sample(1:n)/n*nfolds)\n",
    "  \n",
    "  likelyhood  <- matrix(0,nfolds,length(lambda))\n",
    "  \n",
    "  # report settings\n",
    "  message(\"Info: Number of variables: \", p)\n",
    "  message(\"Info: Sample size: \", n)\n",
    "  message(\"Info: Number of cv folds: \", nfolds)\n",
    "  \n",
    "  cat(\"start cv process......... total\",nfolds,\"validation sets \\n\")\n",
    "  \n",
    "  for(i in 1:nfolds) {\n",
    "    cat(i,\"-th validation set... \\n\")\n",
    "    \n",
    "    X_train <- X[idx!=i,]\n",
    "    y_train <- y[idx!=i]\n",
    "    \n",
    "    X_test  <- X[idx==i,]\n",
    "    y_test  <- y[idx==i]\n",
    "    \n",
    "    \n",
    "    fit <- manualReg(X_train,y_train,lambda=lambda)\n",
    "    \n",
    "    y_hat <- predict(fit,X_test)\n",
    "\n",
    "    phi <- sigmoid(y_hat)\n",
    "    \n",
    "    likelyhood[i,]  <- colMeans(y_test*log(phi) + (1-y_test)*log(1-phi))\n",
    "  }\n",
    "  \n",
    "  cvsd <- sqrt(apply(likelyhood,MARGIN = 2,var)/(nfolds-1))\n",
    "  cvm  <- colMeans(likelyhood)\n",
    "  idx.max <- which.max(cvm)\n",
    "  lambda.max <- fit$lambda[idx.max]\n",
    "  \n",
    "  manualReg.fit <- manualReg(X,y,lambda.max)\n",
    "  \n",
    "  cv_manual <- list(cvm=cvm,cvsd=cvsd,lambda=fit$lambda,lambda.max=lambda.max,manualReg.fit=manualReg.fit,likelyhood=likelyhood)\n",
    "  attr(cv_manual,\"class\") <- \"cv.manualReg\"\n",
    "  \n",
    "  return(cv_manual)\n",
    "}"
   ]
  },
  {
   "cell_type": "code",
   "execution_count": 27,
   "metadata": {},
   "outputs": [
    {
     "name": "stderr",
     "output_type": "stream",
     "text": [
      "Info: Number of variables: 20\n",
      "\n",
      "Info: Sample size: 100\n",
      "\n",
      "Info: Number of cv folds: 10\n",
      "\n"
     ]
    },
    {
     "name": "stdout",
     "output_type": "stream",
     "text": [
      "start cv process......... total 10 validation sets \n",
      "1 -th validation set... \n",
      "2 -th validation set... \n",
      "3 -th validation set... \n",
      "4 -th validation set... \n",
      "5 -th validation set... \n",
      "6 -th validation set... \n",
      "7 -th validation set... \n",
      "8 -th validation set... \n",
      "9 -th validation set... \n",
      "10 -th validation set... \n"
     ]
    }
   ],
   "source": [
    "set.seed(4432) \n",
    "nfold_10 <- cv.manualReg(X,y,lambda=lambda,center=T,scale=T,nfolds = 10)"
   ]
  },
  {
   "cell_type": "markdown",
   "metadata": {},
   "source": [
    "### TODO: Visulize the trend"
   ]
  },
  {
   "cell_type": "code",
   "execution_count": 28,
   "metadata": {},
   "outputs": [],
   "source": [
    "plot.cv.manualReg <- function(object,width=0.01,...) {\n",
    "  \n",
    "  x <- log(object$lambda)\n",
    "  y <- object$cvm\n",
    "  \n",
    "  upper <- y+object$cvsd/2\n",
    "  lower <- y-object$cvsd/2\n",
    "  ylim  <- range(upper,lower)\n",
    "  barw  <- diff(range(x))*width\n",
    "  \n",
    "  plot(x,y,ylim = ylim,type = \"n\",xlab = \"Log(Lambda)\",ylab = \"Predictive Likelihood\",...)\n",
    "  \n",
    "  segments(x,lower,x,upper,col=\"darkgrey\")\n",
    "  segments(x-barw,lower,x+barw,lower,col=\"darkgrey\")\n",
    "  segments(x-barw,upper,x+barw,upper,col=\"darkgrey\")\n",
    "  points(x,y,col=\"red\",pch=20)\n",
    "  \n",
    "  abline(v=log(object$lambda.max),lty=3)\n",
    "}"
   ]
  },
  {
   "cell_type": "code",
   "execution_count": 29,
   "metadata": {},
   "outputs": [
    {
     "data": {
      "image/png": "[encoded data removed]",
      "text/plain": [
       "Plot with title \"10-fold cv\""
      ]
     },
     "metadata": {
      "image/png": {
       "height": 420,
       "width": 420
      }
     },
     "output_type": "display_data"
    }
   ],
   "source": [
    "plot(nfold_10,main=\"10-fold cv\")"
   ]
  },
  {
   "cell_type": "code",
   "execution_count": null,
   "metadata": {},
   "outputs": [],
   "source": []
  }
 ],
 "metadata": {
  "kernelspec": {
   "display_name": "R",
   "language": "R",
   "name": "ir"
  },
  "language_info": {
   "codemirror_mode": "r",
   "file_extension": ".r",
   "mimetype": "text/x-r-source",
   "name": "R",
   "pygments_lexer": "r",
   "version": "4.2.1"
  }
 },
 "nbformat": 4,
 "nbformat_minor": 2
}
