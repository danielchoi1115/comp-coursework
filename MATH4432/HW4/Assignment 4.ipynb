{
 "cells": [
  {
   "cell_type": "markdown",
   "id": "d890da0e-89ed-4158-9186-d8dc1dd28284",
   "metadata": {},
   "source": [
    "# Assignment 4\n",
    "\n"
   ]
  },
  {
   "cell_type": "code",
   "execution_count": 1,
   "id": "809cef4b",
   "metadata": {},
   "outputs": [
    {
     "name": "stderr",
     "output_type": "stream",
     "text": [
      "Warning message:\n",
      "\"package 'randomForest' was built under R version 4.2.2\"\n",
      "randomForest 4.7-1.1\n",
      "\n",
      "Type rfNews() to see new features/changes/bug fixes.\n",
      "\n",
      "Warning message:\n",
      "\"package 'xgboost' was built under R version 4.2.2\"\n",
      "\n",
      "Attaching package: 'ggplot2'\n",
      "\n",
      "\n",
      "The following object is masked from 'package:randomForest':\n",
      "\n",
      "    margin\n",
      "\n",
      "\n"
     ]
    }
   ],
   "source": [
    "library(randomForest)\n",
    "library(xgboost)\n",
    "library(ggplot2)"
   ]
  },
  {
   "cell_type": "code",
   "execution_count": 2,
   "id": "60ca3209",
   "metadata": {},
   "outputs": [],
   "source": [
    "X_test = read.table(\"X_test.txt\", header = TRUE, sep = \" \", dec = \".\")\n",
    "X_train = read.table(\"X_train.txt\", header = TRUE, sep = \" \", dec = \".\")\n",
    "y_test_high_snr = read.table(\"y_test_high_snr.txt\", header = TRUE, sep = \" \", dec = \".\")\n",
    "y_test_low_snr = read.table(\"y_test_low_snr.txt\", header = TRUE, sep = \" \", dec = \".\")\n",
    "y_train_high_snr = read.table(\"y_train_high_snr.txt\", header = TRUE, sep = \" \", dec = \".\")\n",
    "y_train_low_snr = read.table(\"y_train_low_snr.txt\", header = TRUE, sep = \" \", dec = \".\")"
   ]
  },
  {
   "cell_type": "code",
   "execution_count": 3,
   "id": "d82b3faa",
   "metadata": {},
   "outputs": [],
   "source": [
    "mse <- function(y1, y2) {\n",
    "    return (mean((y1 - y2)^2))\n",
    "}"
   ]
  },
  {
   "cell_type": "markdown",
   "id": "81510944",
   "metadata": {},
   "source": [
    "# Random Forest - High SNR"
   ]
  },
  {
   "cell_type": "code",
   "execution_count": 4,
   "id": "2fd6763d",
   "metadata": {},
   "outputs": [
    {
     "data": {
      "text/html": [
       "<style>\n",
       ".list-inline {list-style: none; margin:0; padding: 0}\n",
       ".list-inline>li {display: inline-block}\n",
       ".list-inline>li:not(:last-child)::after {content: \"\\00b7\"; padding: 0 .5ex}\n",
       "</style>\n",
       "<ol class=list-inline><li>20</li><li>21.25</li><li>22.5</li><li>23.75</li><li>25</li><li>26.25</li><li>27.5</li><li>28.75</li><li>30</li><li>31.25</li><li>32.5</li><li>33.75</li><li>35</li><li>36.25</li><li>37.5</li><li>38.75</li><li>40</li><li>41.25</li><li>42.5</li><li>43.75</li><li>45</li><li>46.25</li><li>47.5</li><li>48.75</li><li>50</li></ol>\n"
      ],
      "text/latex": [
       "\\begin{enumerate*}\n",
       "\\item 20\n",
       "\\item 21.25\n",
       "\\item 22.5\n",
       "\\item 23.75\n",
       "\\item 25\n",
       "\\item 26.25\n",
       "\\item 27.5\n",
       "\\item 28.75\n",
       "\\item 30\n",
       "\\item 31.25\n",
       "\\item 32.5\n",
       "\\item 33.75\n",
       "\\item 35\n",
       "\\item 36.25\n",
       "\\item 37.5\n",
       "\\item 38.75\n",
       "\\item 40\n",
       "\\item 41.25\n",
       "\\item 42.5\n",
       "\\item 43.75\n",
       "\\item 45\n",
       "\\item 46.25\n",
       "\\item 47.5\n",
       "\\item 48.75\n",
       "\\item 50\n",
       "\\end{enumerate*}\n"
      ],
      "text/markdown": [
       "1. 20\n",
       "2. 21.25\n",
       "3. 22.5\n",
       "4. 23.75\n",
       "5. 25\n",
       "6. 26.25\n",
       "7. 27.5\n",
       "8. 28.75\n",
       "9. 30\n",
       "10. 31.25\n",
       "11. 32.5\n",
       "12. 33.75\n",
       "13. 35\n",
       "14. 36.25\n",
       "15. 37.5\n",
       "16. 38.75\n",
       "17. 40\n",
       "18. 41.25\n",
       "19. 42.5\n",
       "20. 43.75\n",
       "21. 45\n",
       "22. 46.25\n",
       "23. 47.5\n",
       "24. 48.75\n",
       "25. 50\n",
       "\n",
       "\n"
      ],
      "text/plain": [
       " [1] 20.00 21.25 22.50 23.75 25.00 26.25 27.50 28.75 30.00 31.25 32.50 33.75\n",
       "[13] 35.00 36.25 37.50 38.75 40.00 41.25 42.50 43.75 45.00 46.25 47.50 48.75\n",
       "[25] 50.00"
      ]
     },
     "metadata": {},
     "output_type": "display_data"
    }
   ],
   "source": [
    "m = seq(20, 50, 1.25)\n",
    "m"
   ]
  },
  {
   "cell_type": "code",
   "execution_count": 5,
   "id": "be8c9fac",
   "metadata": {
    "scrolled": true
   },
   "outputs": [
    {
     "name": "stdout",
     "output_type": "stream",
     "text": [
      "5 -th loop done.\n",
      "10 -th loop done.\n",
      "15 -th loop done.\n",
      "20 -th loop done.\n",
      "25 -th loop done.\n"
     ]
    }
   ],
   "source": [
    "rf_errors_high <- data.frame()\n",
    "\n",
    "for (i in 1:length(m)) {\n",
    "    rf.fit = randomForest(\n",
    "        y ~ ., \n",
    "        data=data.frame(X_train, y_train_high_snr), \n",
    "        mtry=m[i])\n",
    "    preds = predict(rf.fit, newdata=X_test)\n",
    "    rf_errors_high = rbind(rf_errors_high, data.frame(MSE=mse(preds, y_test_high_snr$y)))\n",
    "    if (i %% 5 == 0) {\n",
    "    cat(i, \"-th loop done.\\n\")\n",
    "    }\n",
    "}"
   ]
  },
  {
   "cell_type": "code",
   "execution_count": 6,
   "id": "f6960db8",
   "metadata": {},
   "outputs": [
    {
     "data": {
      "image/png": "[encoded data removed]",
      "text/plain": [
       "plot without title"
      ]
     },
     "metadata": {
      "image/png": {
       "height": 420,
       "width": 420
      }
     },
     "output_type": "display_data"
    }
   ],
   "source": [
    "ggplot(rf_errors_high, aes(x=m, y=MSE)) +\n",
    "    geom_point() +\n",
    "    geom_line() +\n",
    "    theme(\n",
    "        text = element_text(size = 20)\n",
    "    )"
   ]
  },
  {
   "cell_type": "markdown",
   "id": "f6971c4a",
   "metadata": {},
   "source": [
    "When SNR is High, greater mtry value tend to reduce the mean squared error. "
   ]
  },
  {
   "cell_type": "markdown",
   "id": "7ba3837c",
   "metadata": {},
   "source": [
    "# Random Forest - Low SNR"
   ]
  },
  {
   "cell_type": "code",
   "execution_count": 7,
   "id": "bb7fa224",
   "metadata": {},
   "outputs": [
    {
     "data": {
      "text/html": [
       "<style>\n",
       ".list-inline {list-style: none; margin:0; padding: 0}\n",
       ".list-inline>li {display: inline-block}\n",
       ".list-inline>li:not(:last-child)::after {content: \"\\00b7\"; padding: 0 .5ex}\n",
       "</style>\n",
       "<ol class=list-inline><li>1</li><li>2.5</li><li>4</li><li>5.5</li><li>7</li><li>8.5</li><li>10</li><li>11.5</li><li>13</li><li>14.5</li><li>16</li><li>17.5</li><li>19</li><li>20.5</li><li>22</li><li>23.5</li><li>25</li><li>26.5</li><li>28</li><li>29.5</li><li>31</li><li>32.5</li><li>34</li><li>35.5</li><li>37</li><li>38.5</li><li>40</li><li>41.5</li><li>43</li><li>44.5</li><li>46</li><li>47.5</li><li>49</li></ol>\n"
      ],
      "text/latex": [
       "\\begin{enumerate*}\n",
       "\\item 1\n",
       "\\item 2.5\n",
       "\\item 4\n",
       "\\item 5.5\n",
       "\\item 7\n",
       "\\item 8.5\n",
       "\\item 10\n",
       "\\item 11.5\n",
       "\\item 13\n",
       "\\item 14.5\n",
       "\\item 16\n",
       "\\item 17.5\n",
       "\\item 19\n",
       "\\item 20.5\n",
       "\\item 22\n",
       "\\item 23.5\n",
       "\\item 25\n",
       "\\item 26.5\n",
       "\\item 28\n",
       "\\item 29.5\n",
       "\\item 31\n",
       "\\item 32.5\n",
       "\\item 34\n",
       "\\item 35.5\n",
       "\\item 37\n",
       "\\item 38.5\n",
       "\\item 40\n",
       "\\item 41.5\n",
       "\\item 43\n",
       "\\item 44.5\n",
       "\\item 46\n",
       "\\item 47.5\n",
       "\\item 49\n",
       "\\end{enumerate*}\n"
      ],
      "text/markdown": [
       "1. 1\n",
       "2. 2.5\n",
       "3. 4\n",
       "4. 5.5\n",
       "5. 7\n",
       "6. 8.5\n",
       "7. 10\n",
       "8. 11.5\n",
       "9. 13\n",
       "10. 14.5\n",
       "11. 16\n",
       "12. 17.5\n",
       "13. 19\n",
       "14. 20.5\n",
       "15. 22\n",
       "16. 23.5\n",
       "17. 25\n",
       "18. 26.5\n",
       "19. 28\n",
       "20. 29.5\n",
       "21. 31\n",
       "22. 32.5\n",
       "23. 34\n",
       "24. 35.5\n",
       "25. 37\n",
       "26. 38.5\n",
       "27. 40\n",
       "28. 41.5\n",
       "29. 43\n",
       "30. 44.5\n",
       "31. 46\n",
       "32. 47.5\n",
       "33. 49\n",
       "\n",
       "\n"
      ],
      "text/plain": [
       " [1]  1.0  2.5  4.0  5.5  7.0  8.5 10.0 11.5 13.0 14.5 16.0 17.5 19.0 20.5 22.0\n",
       "[16] 23.5 25.0 26.5 28.0 29.5 31.0 32.5 34.0 35.5 37.0 38.5 40.0 41.5 43.0 44.5\n",
       "[31] 46.0 47.5 49.0"
      ]
     },
     "metadata": {},
     "output_type": "display_data"
    }
   ],
   "source": [
    "m = seq(1, 49, (49-1)/32)\n",
    "m"
   ]
  },
  {
   "cell_type": "code",
   "execution_count": 8,
   "id": "2bbc402e",
   "metadata": {},
   "outputs": [
    {
     "name": "stdout",
     "output_type": "stream",
     "text": [
      "5 -th loop done.\n",
      "10 -th loop done.\n",
      "15 -th loop done.\n",
      "20 -th loop done.\n",
      "25 -th loop done.\n",
      "30 -th loop done.\n"
     ]
    }
   ],
   "source": [
    "rf_errors_low <- data.frame()\n",
    "\n",
    "for (i in 1:length(m)) {\n",
    "    rf.fit = randomForest(\n",
    "      y ~ ., \n",
    "      data=data.frame(X_train, y_train_low_snr), \n",
    "      mtry=m[i]\n",
    "    )\n",
    "  \n",
    "    preds = predict(rf.fit, newdata=X_test)\n",
    "    rf_errors_low = rbind(rf_errors_low, data.frame(MSE=mse(preds, y_test_low_snr$y)))\n",
    "    if (i %% 5 == 0) {\n",
    "    cat(i, \"-th loop done.\\n\")\n",
    "    }\n",
    "}"
   ]
  },
  {
   "cell_type": "code",
   "execution_count": 9,
   "id": "62a6474a",
   "metadata": {},
   "outputs": [
    {
     "data": {
      "image/png": "[encoded data removed]",
      "text/plain": [
       "plot without title"
      ]
     },
     "metadata": {
      "image/png": {
       "height": 420,
       "width": 420
      }
     },
     "output_type": "display_data"
    }
   ],
   "source": [
    "ggplot(rf_errors_low, aes(x=m, y=MSE)) +\n",
    "    geom_point() +\n",
    "    geom_line() +\n",
    "    theme(text = element_text(size = 20))"
   ]
  },
  {
   "cell_type": "markdown",
   "id": "6cdf60bd",
   "metadata": {},
   "source": [
    "If the SNR is low, greater mtry values tend to increases the mean squared error. \n",
    "This is expected as noisy variables are more likely to be selected when SNR is low."
   ]
  },
  {
   "cell_type": "markdown",
   "id": "52725bd5",
   "metadata": {},
   "source": [
    "# Gradient Boosting - High SNR"
   ]
  },
  {
   "cell_type": "code",
   "execution_count": 10,
   "id": "c75439b6",
   "metadata": {},
   "outputs": [
    {
     "data": {
      "text/html": [
       "<style>\n",
       ".list-inline {list-style: none; margin:0; padding: 0}\n",
       ".list-inline>li {display: inline-block}\n",
       ".list-inline>li:not(:last-child)::after {content: \"\\00b7\"; padding: 0 .5ex}\n",
       "</style>\n",
       "<ol class=list-inline><li>0.0025</li><li>0.01</li><li>0.0225</li><li>0.04</li><li>0.0625</li><li>0.09</li><li>0.1225</li><li>0.16</li><li>0.2025</li><li>0.25</li><li>0.3025</li><li>0.36</li><li>0.4225</li><li>0.49</li><li>0.5625</li><li>0.64</li><li>0.7225</li><li>0.81</li></ol>\n"
      ],
      "text/latex": [
       "\\begin{enumerate*}\n",
       "\\item 0.0025\n",
       "\\item 0.01\n",
       "\\item 0.0225\n",
       "\\item 0.04\n",
       "\\item 0.0625\n",
       "\\item 0.09\n",
       "\\item 0.1225\n",
       "\\item 0.16\n",
       "\\item 0.2025\n",
       "\\item 0.25\n",
       "\\item 0.3025\n",
       "\\item 0.36\n",
       "\\item 0.4225\n",
       "\\item 0.49\n",
       "\\item 0.5625\n",
       "\\item 0.64\n",
       "\\item 0.7225\n",
       "\\item 0.81\n",
       "\\end{enumerate*}\n"
      ],
      "text/markdown": [
       "1. 0.0025\n",
       "2. 0.01\n",
       "3. 0.0225\n",
       "4. 0.04\n",
       "5. 0.0625\n",
       "6. 0.09\n",
       "7. 0.1225\n",
       "8. 0.16\n",
       "9. 0.2025\n",
       "10. 0.25\n",
       "11. 0.3025\n",
       "12. 0.36\n",
       "13. 0.4225\n",
       "14. 0.49\n",
       "15. 0.5625\n",
       "16. 0.64\n",
       "17. 0.7225\n",
       "18. 0.81\n",
       "\n",
       "\n"
      ],
      "text/plain": [
       " [1] 0.0025 0.0100 0.0225 0.0400 0.0625 0.0900 0.1225 0.1600 0.2025 0.2500\n",
       "[11] 0.3025 0.3600 0.4225 0.4900 0.5625 0.6400 0.7225 0.8100"
      ]
     },
     "metadata": {},
     "output_type": "display_data"
    }
   ],
   "source": [
    "lr = seq(0.05, 0.9, 0.05)^2\n",
    "lr"
   ]
  },
  {
   "cell_type": "code",
   "execution_count": 11,
   "id": "61737f90",
   "metadata": {},
   "outputs": [],
   "source": [
    "xg_errors_high <- data.frame()"
   ]
  },
  {
   "cell_type": "code",
   "execution_count": 12,
   "id": "df8e2dff",
   "metadata": {},
   "outputs": [
    {
     "name": "stdout",
     "output_type": "stream",
     "text": [
      "5 -th loop done.\n",
      "10 -th loop done.\n",
      "15 -th loop done.\n"
     ]
    }
   ],
   "source": [
    "for (i in 1:length(lr)) {\n",
    "    xg.fit = xgboost(\n",
    "        data = data.matrix(X_train), \n",
    "        label = y_train_high_snr$y,\n",
    "        nrounds = dim(X_train)[1], \n",
    "        eta = lr[i], \n",
    "        verbose = FALSE\n",
    "    )\n",
    "    \n",
    "    pred = predict(xg.fit, newdata=data.matrix(X_test))\n",
    "    xg_errors_high = rbind(xg_errors_high, data.frame(MSE=mse(pred, y_test_high_snr$y)))\n",
    "    if (i %% 5 == 0) {\n",
    "        cat(i, \"-th loop done.\\n\")\n",
    "    }\n",
    "}"
   ]
  },
  {
   "cell_type": "code",
   "execution_count": 13,
   "id": "07d34195",
   "metadata": {},
   "outputs": [
    {
     "data": {
      "image/png": "[encoded data removed]",
      "text/plain": [
       "plot without title"
      ]
     },
     "metadata": {
      "image/png": {
       "height": 420,
       "width": 420
      }
     },
     "output_type": "display_data"
    }
   ],
   "source": [
    "ggplot(xg_errors_high, aes(x=lr, y=MSE)) +\n",
    "    geom_point() +\n",
    "    geom_line() +\n",
    "    theme(text = element_text(size = 20))"
   ]
  },
  {
   "cell_type": "markdown",
   "id": "0c7dc44f",
   "metadata": {},
   "source": [
    "If data has high SNR in Boosting, the MSE and learning rate plot follows U shape.\n",
    "Small learning rates seem to be generally better except when the learning rate is extremely small such that only tiny updates will be made."
   ]
  },
  {
   "cell_type": "markdown",
   "id": "3b739170",
   "metadata": {},
   "source": [
    "# Gradient Boosting - Low SNR"
   ]
  },
  {
   "cell_type": "code",
   "execution_count": 14,
   "id": "85b85807",
   "metadata": {},
   "outputs": [
    {
     "name": "stdout",
     "output_type": "stream",
     "text": [
      "5 -th loop done.\n",
      "10 -th loop done.\n",
      "15 -th loop done.\n"
     ]
    }
   ],
   "source": [
    "xg_errors_low <- data.frame()\n",
    "for (i in 1:length(lr)) {\n",
    "    xg.fit = xgboost(\n",
    "        data = data.matrix(X_train), \n",
    "        label = y_train_low_snr$y,\n",
    "        nrounds = dim(X_train)[1], \n",
    "        eta = lr[i], \n",
    "        verbose = FALSE\n",
    "    )\n",
    "    \n",
    "    pred = predict(xg.fit, newdata=data.matrix(X_test))\n",
    "    xg_errors_low = rbind(xg_errors_low, data.frame(MSE=mse(pred, y_test_low_snr$y)))\n",
    "    if (i %% 5 == 0) {\n",
    "        cat(i, \"-th loop done.\\n\")\n",
    "    }\n",
    "}"
   ]
  },
  {
   "cell_type": "code",
   "execution_count": 15,
   "id": "01dccbe6",
   "metadata": {},
   "outputs": [
    {
     "data": {
      "image/png": "[encoded data removed]",
      "text/plain": [
       "plot without title"
      ]
     },
     "metadata": {
      "image/png": {
       "height": 420,
       "width": 420
      }
     },
     "output_type": "display_data"
    }
   ],
   "source": [
    "ggplot(xg_errors_low, aes(x=lr, y=MSE)) +\n",
    "    geom_point() +\n",
    "    geom_line() +\n",
    "    theme(\n",
    "        text = element_text(size = 20)\n",
    "    )"
   ]
  },
  {
   "cell_type": "markdown",
   "id": "fa4bbe2f",
   "metadata": {},
   "source": [
    "The situation is a bit different if the SNR is low.\n",
    "Learning rate is almost linearly proportional to the MSE. In other words, the most less boosted model performed better than the more boosted ones.\n",
    "\n",
    "Therfore, boosting might not be an appropriate choice when SNR is low."
   ]
  }
 ],
 "metadata": {
  "kernelspec": {
   "display_name": "R",
   "language": "R",
   "name": "ir"
  },
  "language_info": {
   "codemirror_mode": "r",
   "file_extension": ".r",
   "mimetype": "text/x-r-source",
   "name": "R",
   "pygments_lexer": "r",
   "version": "4.2.1"
  }
 },
 "nbformat": 4,
 "nbformat_minor": 5
}
